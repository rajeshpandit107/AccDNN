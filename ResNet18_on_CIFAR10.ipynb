{
  "nbformat": 4,
  "nbformat_minor": 0,
  "metadata": {
    "colab": {
      "name": "ResNet18 on CIFAR10.ipynb",
      "provenance": [],
      "collapsed_sections": [],
      "include_colab_link": true
    },
    "kernelspec": {
      "name": "python3",
      "display_name": "Python 3"
    },
    "accelerator": "GPU",
    "widgets": {
      "application/vnd.jupyter.widget-state+json": {
        "fd0d0f89a3364e0f9efc82999082719e": {
          "model_module": "@jupyter-widgets/controls",
          "model_name": "HBoxModel",
          "state": {
            "_view_name": "HBoxView",
            "_dom_classes": [],
            "_model_name": "HBoxModel",
            "_view_module": "@jupyter-widgets/controls",
            "_model_module_version": "1.5.0",
            "_view_count": null,
            "_view_module_version": "1.5.0",
            "box_style": "",
            "layout": "IPY_MODEL_03ade1179591413ebc6e71408fb09101",
            "_model_module": "@jupyter-widgets/controls",
            "children": [
              "IPY_MODEL_3fbc497cbac64c719b3ab95daa4c3221",
              "IPY_MODEL_0df9bee29ad14a29a30d61d72bb907d9"
            ]
          }
        },
        "03ade1179591413ebc6e71408fb09101": {
          "model_module": "@jupyter-widgets/base",
          "model_name": "LayoutModel",
          "state": {
            "_view_name": "LayoutView",
            "grid_template_rows": null,
            "right": null,
            "justify_content": null,
            "_view_module": "@jupyter-widgets/base",
            "overflow": null,
            "_model_module_version": "1.2.0",
            "_view_count": null,
            "flex_flow": null,
            "width": null,
            "min_width": null,
            "border": null,
            "align_items": null,
            "bottom": null,
            "_model_module": "@jupyter-widgets/base",
            "top": null,
            "grid_column": null,
            "overflow_y": null,
            "overflow_x": null,
            "grid_auto_flow": null,
            "grid_area": null,
            "grid_template_columns": null,
            "flex": null,
            "_model_name": "LayoutModel",
            "justify_items": null,
            "grid_row": null,
            "max_height": null,
            "align_content": null,
            "visibility": null,
            "align_self": null,
            "height": null,
            "min_height": null,
            "padding": null,
            "grid_auto_rows": null,
            "grid_gap": null,
            "max_width": null,
            "order": null,
            "_view_module_version": "1.2.0",
            "grid_template_areas": null,
            "object_position": null,
            "object_fit": null,
            "grid_auto_columns": null,
            "margin": null,
            "display": null,
            "left": null
          }
        },
        "3fbc497cbac64c719b3ab95daa4c3221": {
          "model_module": "@jupyter-widgets/controls",
          "model_name": "FloatProgressModel",
          "state": {
            "_view_name": "ProgressView",
            "style": "IPY_MODEL_0397b21275c040e49ff96d5b3082a1f0",
            "_dom_classes": [],
            "description": "",
            "_model_name": "FloatProgressModel",
            "bar_style": "success",
            "max": 170498071,
            "_view_module": "@jupyter-widgets/controls",
            "_model_module_version": "1.5.0",
            "value": 170498071,
            "_view_count": null,
            "_view_module_version": "1.5.0",
            "orientation": "horizontal",
            "min": 0,
            "description_tooltip": null,
            "_model_module": "@jupyter-widgets/controls",
            "layout": "IPY_MODEL_6808dcbe9a8f4c608e0f57642d3ac8d4"
          }
        },
        "0df9bee29ad14a29a30d61d72bb907d9": {
          "model_module": "@jupyter-widgets/controls",
          "model_name": "HTMLModel",
          "state": {
            "_view_name": "HTMLView",
            "style": "IPY_MODEL_eeef677f32304bcfa8eaa0c9eee8c7f4",
            "_dom_classes": [],
            "description": "",
            "_model_name": "HTMLModel",
            "placeholder": "​",
            "_view_module": "@jupyter-widgets/controls",
            "_model_module_version": "1.5.0",
            "value": " 170499072/? [00:04&lt;00:00, 37785638.03it/s]",
            "_view_count": null,
            "_view_module_version": "1.5.0",
            "description_tooltip": null,
            "_model_module": "@jupyter-widgets/controls",
            "layout": "IPY_MODEL_9855ee620a7049ef8468767299e7e343"
          }
        },
        "0397b21275c040e49ff96d5b3082a1f0": {
          "model_module": "@jupyter-widgets/controls",
          "model_name": "ProgressStyleModel",
          "state": {
            "_view_name": "StyleView",
            "_model_name": "ProgressStyleModel",
            "description_width": "initial",
            "_view_module": "@jupyter-widgets/base",
            "_model_module_version": "1.5.0",
            "_view_count": null,
            "_view_module_version": "1.2.0",
            "bar_color": null,
            "_model_module": "@jupyter-widgets/controls"
          }
        },
        "6808dcbe9a8f4c608e0f57642d3ac8d4": {
          "model_module": "@jupyter-widgets/base",
          "model_name": "LayoutModel",
          "state": {
            "_view_name": "LayoutView",
            "grid_template_rows": null,
            "right": null,
            "justify_content": null,
            "_view_module": "@jupyter-widgets/base",
            "overflow": null,
            "_model_module_version": "1.2.0",
            "_view_count": null,
            "flex_flow": null,
            "width": null,
            "min_width": null,
            "border": null,
            "align_items": null,
            "bottom": null,
            "_model_module": "@jupyter-widgets/base",
            "top": null,
            "grid_column": null,
            "overflow_y": null,
            "overflow_x": null,
            "grid_auto_flow": null,
            "grid_area": null,
            "grid_template_columns": null,
            "flex": null,
            "_model_name": "LayoutModel",
            "justify_items": null,
            "grid_row": null,
            "max_height": null,
            "align_content": null,
            "visibility": null,
            "align_self": null,
            "height": null,
            "min_height": null,
            "padding": null,
            "grid_auto_rows": null,
            "grid_gap": null,
            "max_width": null,
            "order": null,
            "_view_module_version": "1.2.0",
            "grid_template_areas": null,
            "object_position": null,
            "object_fit": null,
            "grid_auto_columns": null,
            "margin": null,
            "display": null,
            "left": null
          }
        },
        "eeef677f32304bcfa8eaa0c9eee8c7f4": {
          "model_module": "@jupyter-widgets/controls",
          "model_name": "DescriptionStyleModel",
          "state": {
            "_view_name": "StyleView",
            "_model_name": "DescriptionStyleModel",
            "description_width": "",
            "_view_module": "@jupyter-widgets/base",
            "_model_module_version": "1.5.0",
            "_view_count": null,
            "_view_module_version": "1.2.0",
            "_model_module": "@jupyter-widgets/controls"
          }
        },
        "9855ee620a7049ef8468767299e7e343": {
          "model_module": "@jupyter-widgets/base",
          "model_name": "LayoutModel",
          "state": {
            "_view_name": "LayoutView",
            "grid_template_rows": null,
            "right": null,
            "justify_content": null,
            "_view_module": "@jupyter-widgets/base",
            "overflow": null,
            "_model_module_version": "1.2.0",
            "_view_count": null,
            "flex_flow": null,
            "width": null,
            "min_width": null,
            "border": null,
            "align_items": null,
            "bottom": null,
            "_model_module": "@jupyter-widgets/base",
            "top": null,
            "grid_column": null,
            "overflow_y": null,
            "overflow_x": null,
            "grid_auto_flow": null,
            "grid_area": null,
            "grid_template_columns": null,
            "flex": null,
            "_model_name": "LayoutModel",
            "justify_items": null,
            "grid_row": null,
            "max_height": null,
            "align_content": null,
            "visibility": null,
            "align_self": null,
            "height": null,
            "min_height": null,
            "padding": null,
            "grid_auto_rows": null,
            "grid_gap": null,
            "max_width": null,
            "order": null,
            "_view_module_version": "1.2.0",
            "grid_template_areas": null,
            "object_position": null,
            "object_fit": null,
            "grid_auto_columns": null,
            "margin": null,
            "display": null,
            "left": null
          }
        }
      }
    }
  },
  "cells": [
    {
      "cell_type": "markdown",
      "metadata": {
        "id": "view-in-github",
        "colab_type": "text"
      },
      "source": [
        "<a href=\"https://colab.research.google.com/github/rajeshpandit107/AccDNN/blob/master/ResNet18_on_CIFAR10.ipynb\" target=\"_parent\"><img src=\"https://colab.research.google.com/assets/colab-badge.svg\" alt=\"Open In Colab\"/></a>"
      ]
    },
    {
      "cell_type": "code",
      "metadata": {
        "id": "S5jknwi0jykv"
      },
      "source": [
        ""
      ],
      "execution_count": null,
      "outputs": []
    },
    {
      "cell_type": "code",
      "metadata": {
        "id": "8vNAOLnujF2H"
      },
      "source": [
        ""
      ],
      "execution_count": null,
      "outputs": []
    },
    {
      "cell_type": "code",
      "metadata": {
        "id": "sTAAu9INct_z"
      },
      "source": [
        "import random\n",
        "import torch\n",
        "import torchvision\n",
        "from torch.utils.data import Dataset\n",
        "import torch.optim as optim\n",
        "import torch.nn as nn\n",
        "import torchvision.models as models\n",
        "import torchvision.transforms as transforms\n",
        "from torch.hub import load_state_dict_from_url\n",
        "from torch.nn import Module\n",
        "from torch import nn"
      ],
      "execution_count": null,
      "outputs": []
    },
    {
      "cell_type": "code",
      "metadata": {
        "id": "g7sG0849dnYl",
        "colab": {
          "base_uri": "https://localhost:8080/",
          "height": 99,
          "referenced_widgets": [
            "fd0d0f89a3364e0f9efc82999082719e",
            "03ade1179591413ebc6e71408fb09101",
            "3fbc497cbac64c719b3ab95daa4c3221",
            "0df9bee29ad14a29a30d61d72bb907d9",
            "0397b21275c040e49ff96d5b3082a1f0",
            "6808dcbe9a8f4c608e0f57642d3ac8d4",
            "eeef677f32304bcfa8eaa0c9eee8c7f4",
            "9855ee620a7049ef8468767299e7e343"
          ]
        },
        "outputId": "22d6231d-45d3-4de4-f721-0fbd0cc3b4b2"
      },
      "source": [
        "transform = transforms.Compose([transforms.ToTensor(), transforms.RandomHorizontalFlip(), transforms. RandomCrop(32, padding=4)])\n",
        "data_set = torchvision.datasets.CIFAR10(root='.', train=True, download=True, transform=transform)\n",
        "data_loader = torch.utils.data.DataLoader(data_set, batch_size=256, shuffle=True)"
      ],
      "execution_count": null,
      "outputs": [
        {
          "output_type": "stream",
          "text": [
            "Downloading https://www.cs.toronto.edu/~kriz/cifar-10-python.tar.gz to ./cifar-10-python.tar.gz\n"
          ],
          "name": "stdout"
        },
        {
          "output_type": "display_data",
          "data": {
            "application/vnd.jupyter.widget-view+json": {
              "model_id": "fd0d0f89a3364e0f9efc82999082719e",
              "version_minor": 0,
              "version_major": 2
            },
            "text/plain": [
              "HBox(children=(FloatProgress(value=0.0, max=170498071.0), HTML(value='')))"
            ]
          },
          "metadata": {
            "tags": []
          }
        },
        {
          "output_type": "stream",
          "text": [
            "\n",
            "Extracting ./cifar-10-python.tar.gz to .\n"
          ],
          "name": "stdout"
        }
      ]
    },
    {
      "cell_type": "code",
      "metadata": {
        "id": "Xx7Ai2Nbi5kK"
      },
      "source": [
        ""
      ],
      "execution_count": null,
      "outputs": []
    },
    {
      "cell_type": "code",
      "metadata": {
        "id": "0KjEVzfpi8nG"
      },
      "source": [
        ""
      ],
      "execution_count": null,
      "outputs": []
    },
    {
      "cell_type": "code",
      "metadata": {
        "id": "xISDT3TUf0T2",
        "colab": {
          "base_uri": "https://localhost:8080/"
        },
        "outputId": "b1e800f2-7f12-4ae8-de31-340c1eea2c70"
      },
      "source": [
        "\tdevice = torch.device(\"cuda:0\" if torch.cuda.is_available() else \"cpu\")\n",
        "\tprint(f'Using {device} device.')"
      ],
      "execution_count": null,
      "outputs": [
        {
          "output_type": "stream",
          "text": [
            "Using cuda:0 device.\n"
          ],
          "name": "stdout"
        }
      ]
    },
    {
      "cell_type": "code",
      "metadata": {
        "id": "J0ebDA_quHYK"
      },
      "source": [
        "model = models.resnet18()"
      ],
      "execution_count": null,
      "outputs": []
    },
    {
      "cell_type": "code",
      "metadata": {
        "id": "SUE50vXnfYMv"
      },
      "source": [
        "criterion = nn.CrossEntropyLoss().cuda()\n",
        "optimizer = optim.SGD(model.parameters(), lr=0.1, momentum=0.9, weight_decay=0.0001)"
      ],
      "execution_count": null,
      "outputs": []
    },
    {
      "cell_type": "code",
      "metadata": {
        "id": "hyQiSgaPfrlD",
        "colab": {
          "base_uri": "https://localhost:8080/"
        },
        "outputId": "9b3f13b0-ccf3-4f0d-f0c0-95d63efd0d28"
      },
      "source": [
        "model.to(device)\n",
        "\n",
        "print(f\"Started Training...\")\n",
        "\n",
        "for epoch in range(1, 100+1):\n",
        "  running_loss = 0.0\n",
        "  for batch_num, data in enumerate(data_loader, 0):\n",
        "    inputs, labels = data[0].to(device), data[1].to(device)\n",
        "    # print(inputs.shape)\n",
        "\n",
        "    optimizer.zero_grad()\n",
        "    outputs = model(inputs)\n",
        "    loss = criterion(outputs, labels)\n",
        "    loss.backward()\n",
        "    optimizer.step()\n",
        "    with torch.no_grad():\n",
        "                running_loss += loss.item()\n",
        "  \n",
        "  print(f\"Epoch {epoch} : Avg Batch Loss = {running_loss/256}\")"
      ],
      "execution_count": null,
      "outputs": [
        {
          "output_type": "stream",
          "text": [
            "Started Training...\n",
            "Epoch 1 : Avg Batch Loss = 1.6695609991438687\n",
            "Epoch 2 : Avg Batch Loss = 1.1943630180321634\n",
            "Epoch 3 : Avg Batch Loss = 1.0429907939396799\n",
            "Epoch 4 : Avg Batch Loss = 0.9316753996536136\n",
            "Epoch 5 : Avg Batch Loss = 0.8456111445557326\n",
            "Epoch 6 : Avg Batch Loss = 0.7699679678771645\n",
            "Epoch 7 : Avg Batch Loss = 0.727769234450534\n",
            "Epoch 8 : Avg Batch Loss = 0.6798334512859583\n",
            "Epoch 9 : Avg Batch Loss = 0.6427998286671937\n",
            "Epoch 10 : Avg Batch Loss = 0.6071516324300319\n",
            "Epoch 11 : Avg Batch Loss = 0.5801843712106347\n",
            "Epoch 12 : Avg Batch Loss = 0.5588393267244101\n",
            "Epoch 13 : Avg Batch Loss = 0.5317980526015162\n",
            "Epoch 14 : Avg Batch Loss = 0.5131267972756177\n",
            "Epoch 15 : Avg Batch Loss = 0.4937553690979257\n",
            "Epoch 16 : Avg Batch Loss = 0.4807378954719752\n",
            "Epoch 17 : Avg Batch Loss = 0.4710645176237449\n",
            "Epoch 18 : Avg Batch Loss = 0.4575325147015974\n",
            "Epoch 19 : Avg Batch Loss = 0.4351973693119362\n",
            "Epoch 20 : Avg Batch Loss = 0.4263696842826903\n",
            "Epoch 21 : Avg Batch Loss = 0.42083810770418495\n",
            "Epoch 22 : Avg Batch Loss = 0.41053099324926734\n",
            "Epoch 23 : Avg Batch Loss = 0.3979611564427614\n",
            "Epoch 24 : Avg Batch Loss = 0.3909171468112618\n",
            "Epoch 25 : Avg Batch Loss = 0.37494493392296135\n",
            "Epoch 26 : Avg Batch Loss = 0.3786271557910368\n",
            "Epoch 27 : Avg Batch Loss = 0.36732112255413085\n",
            "Epoch 28 : Avg Batch Loss = 0.3585799584398046\n",
            "Epoch 29 : Avg Batch Loss = 0.35611162579152733\n",
            "Epoch 30 : Avg Batch Loss = 0.3485957527300343\n",
            "Epoch 31 : Avg Batch Loss = 0.3399606067687273\n",
            "Epoch 32 : Avg Batch Loss = 0.3369291025446728\n",
            "Epoch 33 : Avg Batch Loss = 0.32804628799203783\n",
            "Epoch 34 : Avg Batch Loss = 0.3219063146971166\n",
            "Epoch 35 : Avg Batch Loss = 0.31979815603699535\n",
            "Epoch 36 : Avg Batch Loss = 0.3124670152319595\n",
            "Epoch 37 : Avg Batch Loss = 0.31103396438993514\n",
            "Epoch 38 : Avg Batch Loss = 0.30022702942369506\n",
            "Epoch 39 : Avg Batch Loss = 0.3011226514354348\n",
            "Epoch 40 : Avg Batch Loss = 0.2973247173940763\n",
            "Epoch 41 : Avg Batch Loss = 0.29640802869107574\n",
            "Epoch 42 : Avg Batch Loss = 0.28755216486752033\n",
            "Epoch 43 : Avg Batch Loss = 0.2843721811659634\n",
            "Epoch 44 : Avg Batch Loss = 0.2830360677326098\n",
            "Epoch 45 : Avg Batch Loss = 0.28151777118910104\n",
            "Epoch 46 : Avg Batch Loss = 0.27253876422764733\n",
            "Epoch 47 : Avg Batch Loss = 0.2739239279180765\n",
            "Epoch 48 : Avg Batch Loss = 0.26768172916490585\n",
            "Epoch 49 : Avg Batch Loss = 0.2619691092404537\n",
            "Epoch 50 : Avg Batch Loss = 0.25978890497935936\n",
            "Epoch 51 : Avg Batch Loss = 0.2605273619410582\n",
            "Epoch 52 : Avg Batch Loss = 0.2540490048122592\n",
            "Epoch 53 : Avg Batch Loss = 0.2506287166615948\n",
            "Epoch 54 : Avg Batch Loss = 0.254440670076292\n",
            "Epoch 55 : Avg Batch Loss = 0.24516175041208044\n",
            "Epoch 56 : Avg Batch Loss = 0.24646489566657692\n",
            "Epoch 57 : Avg Batch Loss = 0.24279558297712356\n",
            "Epoch 58 : Avg Batch Loss = 0.23937100695911795\n",
            "Epoch 59 : Avg Batch Loss = 0.23729700536932796\n",
            "Epoch 60 : Avg Batch Loss = 0.23514901043381542\n",
            "Epoch 61 : Avg Batch Loss = 0.2345964756095782\n",
            "Epoch 62 : Avg Batch Loss = 0.235483321826905\n",
            "Epoch 63 : Avg Batch Loss = 0.2287715560523793\n",
            "Epoch 64 : Avg Batch Loss = 0.22921692836098373\n",
            "Epoch 65 : Avg Batch Loss = 0.2251032109488733\n",
            "Epoch 66 : Avg Batch Loss = 0.22074006230104715\n",
            "Epoch 67 : Avg Batch Loss = 0.22180666797794402\n",
            "Epoch 68 : Avg Batch Loss = 0.22222799522569403\n",
            "Epoch 69 : Avg Batch Loss = 0.21907451888546348\n",
            "Epoch 70 : Avg Batch Loss = 0.21785098902182654\n",
            "Epoch 71 : Avg Batch Loss = 0.2202698832261376\n",
            "Epoch 72 : Avg Batch Loss = 0.21345903677865863\n",
            "Epoch 73 : Avg Batch Loss = 0.21472337242448702\n",
            "Epoch 74 : Avg Batch Loss = 0.2120339886751026\n",
            "Epoch 75 : Avg Batch Loss = 0.21115161350462586\n",
            "Epoch 76 : Avg Batch Loss = 0.21077071729814634\n",
            "Epoch 77 : Avg Batch Loss = 0.2021063772845082\n",
            "Epoch 78 : Avg Batch Loss = 0.2036685876955744\n",
            "Epoch 79 : Avg Batch Loss = 0.20011390943545848\n",
            "Epoch 80 : Avg Batch Loss = 0.2036857446655631\n",
            "Epoch 81 : Avg Batch Loss = 0.20071660092798993\n",
            "Epoch 82 : Avg Batch Loss = 0.19572983926627785\n",
            "Epoch 83 : Avg Batch Loss = 0.19648472947301343\n",
            "Epoch 84 : Avg Batch Loss = 0.19792769534979016\n",
            "Epoch 85 : Avg Batch Loss = 0.193682303535752\n",
            "Epoch 86 : Avg Batch Loss = 0.19009770883712918\n",
            "Epoch 87 : Avg Batch Loss = 0.19088063173694536\n",
            "Epoch 88 : Avg Batch Loss = 0.19150524999713525\n",
            "Epoch 89 : Avg Batch Loss = 0.18888414686080068\n",
            "Epoch 90 : Avg Batch Loss = 0.18598180054686964\n",
            "Epoch 91 : Avg Batch Loss = 0.18814563076011837\n",
            "Epoch 92 : Avg Batch Loss = 0.18719855922972783\n",
            "Epoch 93 : Avg Batch Loss = 0.18753051629755646\n",
            "Epoch 94 : Avg Batch Loss = 0.1840927714947611\n",
            "Epoch 95 : Avg Batch Loss = 0.18246781948255375\n",
            "Epoch 96 : Avg Batch Loss = 0.18313963420223445\n",
            "Epoch 97 : Avg Batch Loss = 0.18301092745969072\n",
            "Epoch 98 : Avg Batch Loss = 0.1801262409426272\n",
            "Epoch 99 : Avg Batch Loss = 0.1776154565741308\n",
            "Epoch 100 : Avg Batch Loss = 0.1806144603760913\n"
          ],
          "name": "stdout"
        }
      ]
    },
    {
      "cell_type": "code",
      "metadata": {
        "id": "s755ZIzUjSqb",
        "colab": {
          "base_uri": "https://localhost:8080/"
        },
        "outputId": "559aa96b-65c0-4cb9-efed-f9bac87f5a75"
      },
      "source": [
        "print(model)"
      ],
      "execution_count": null,
      "outputs": [
        {
          "output_type": "stream",
          "text": [
            "ResNet(\n",
            "  (conv1): Conv2d(3, 64, kernel_size=(7, 7), stride=(2, 2), padding=(3, 3), bias=False)\n",
            "  (bn1): BatchNorm2d(64, eps=1e-05, momentum=0.1, affine=True, track_running_stats=True)\n",
            "  (relu): ReLU(inplace=True)\n",
            "  (maxpool): MaxPool2d(kernel_size=3, stride=2, padding=1, dilation=1, ceil_mode=False)\n",
            "  (layer1): Sequential(\n",
            "    (0): BasicBlock(\n",
            "      (conv1): Conv2d(64, 64, kernel_size=(3, 3), stride=(1, 1), padding=(1, 1), bias=False)\n",
            "      (bn1): BatchNorm2d(64, eps=1e-05, momentum=0.1, affine=True, track_running_stats=True)\n",
            "      (relu): ReLU(inplace=True)\n",
            "      (conv2): Conv2d(64, 64, kernel_size=(3, 3), stride=(1, 1), padding=(1, 1), bias=False)\n",
            "      (bn2): BatchNorm2d(64, eps=1e-05, momentum=0.1, affine=True, track_running_stats=True)\n",
            "    )\n",
            "    (1): BasicBlock(\n",
            "      (conv1): Conv2d(64, 64, kernel_size=(3, 3), stride=(1, 1), padding=(1, 1), bias=False)\n",
            "      (bn1): BatchNorm2d(64, eps=1e-05, momentum=0.1, affine=True, track_running_stats=True)\n",
            "      (relu): ReLU(inplace=True)\n",
            "      (conv2): Conv2d(64, 64, kernel_size=(3, 3), stride=(1, 1), padding=(1, 1), bias=False)\n",
            "      (bn2): BatchNorm2d(64, eps=1e-05, momentum=0.1, affine=True, track_running_stats=True)\n",
            "    )\n",
            "  )\n",
            "  (layer2): Sequential(\n",
            "    (0): BasicBlock(\n",
            "      (conv1): Conv2d(64, 128, kernel_size=(3, 3), stride=(2, 2), padding=(1, 1), bias=False)\n",
            "      (bn1): BatchNorm2d(128, eps=1e-05, momentum=0.1, affine=True, track_running_stats=True)\n",
            "      (relu): ReLU(inplace=True)\n",
            "      (conv2): Conv2d(128, 128, kernel_size=(3, 3), stride=(1, 1), padding=(1, 1), bias=False)\n",
            "      (bn2): BatchNorm2d(128, eps=1e-05, momentum=0.1, affine=True, track_running_stats=True)\n",
            "      (downsample): Sequential(\n",
            "        (0): Conv2d(64, 128, kernel_size=(1, 1), stride=(2, 2), bias=False)\n",
            "        (1): BatchNorm2d(128, eps=1e-05, momentum=0.1, affine=True, track_running_stats=True)\n",
            "      )\n",
            "    )\n",
            "    (1): BasicBlock(\n",
            "      (conv1): Conv2d(128, 128, kernel_size=(3, 3), stride=(1, 1), padding=(1, 1), bias=False)\n",
            "      (bn1): BatchNorm2d(128, eps=1e-05, momentum=0.1, affine=True, track_running_stats=True)\n",
            "      (relu): ReLU(inplace=True)\n",
            "      (conv2): Conv2d(128, 128, kernel_size=(3, 3), stride=(1, 1), padding=(1, 1), bias=False)\n",
            "      (bn2): BatchNorm2d(128, eps=1e-05, momentum=0.1, affine=True, track_running_stats=True)\n",
            "    )\n",
            "  )\n",
            "  (layer3): Sequential(\n",
            "    (0): BasicBlock(\n",
            "      (conv1): Conv2d(128, 256, kernel_size=(3, 3), stride=(2, 2), padding=(1, 1), bias=False)\n",
            "      (bn1): BatchNorm2d(256, eps=1e-05, momentum=0.1, affine=True, track_running_stats=True)\n",
            "      (relu): ReLU(inplace=True)\n",
            "      (conv2): Conv2d(256, 256, kernel_size=(3, 3), stride=(1, 1), padding=(1, 1), bias=False)\n",
            "      (bn2): BatchNorm2d(256, eps=1e-05, momentum=0.1, affine=True, track_running_stats=True)\n",
            "      (downsample): Sequential(\n",
            "        (0): Conv2d(128, 256, kernel_size=(1, 1), stride=(2, 2), bias=False)\n",
            "        (1): BatchNorm2d(256, eps=1e-05, momentum=0.1, affine=True, track_running_stats=True)\n",
            "      )\n",
            "    )\n",
            "    (1): BasicBlock(\n",
            "      (conv1): Conv2d(256, 256, kernel_size=(3, 3), stride=(1, 1), padding=(1, 1), bias=False)\n",
            "      (bn1): BatchNorm2d(256, eps=1e-05, momentum=0.1, affine=True, track_running_stats=True)\n",
            "      (relu): ReLU(inplace=True)\n",
            "      (conv2): Conv2d(256, 256, kernel_size=(3, 3), stride=(1, 1), padding=(1, 1), bias=False)\n",
            "      (bn2): BatchNorm2d(256, eps=1e-05, momentum=0.1, affine=True, track_running_stats=True)\n",
            "    )\n",
            "  )\n",
            "  (layer4): Sequential(\n",
            "    (0): BasicBlock(\n",
            "      (conv1): Conv2d(256, 512, kernel_size=(3, 3), stride=(2, 2), padding=(1, 1), bias=False)\n",
            "      (bn1): BatchNorm2d(512, eps=1e-05, momentum=0.1, affine=True, track_running_stats=True)\n",
            "      (relu): ReLU(inplace=True)\n",
            "      (conv2): Conv2d(512, 512, kernel_size=(3, 3), stride=(1, 1), padding=(1, 1), bias=False)\n",
            "      (bn2): BatchNorm2d(512, eps=1e-05, momentum=0.1, affine=True, track_running_stats=True)\n",
            "      (downsample): Sequential(\n",
            "        (0): Conv2d(256, 512, kernel_size=(1, 1), stride=(2, 2), bias=False)\n",
            "        (1): BatchNorm2d(512, eps=1e-05, momentum=0.1, affine=True, track_running_stats=True)\n",
            "      )\n",
            "    )\n",
            "    (1): BasicBlock(\n",
            "      (conv1): Conv2d(512, 512, kernel_size=(3, 3), stride=(1, 1), padding=(1, 1), bias=False)\n",
            "      (bn1): BatchNorm2d(512, eps=1e-05, momentum=0.1, affine=True, track_running_stats=True)\n",
            "      (relu): ReLU(inplace=True)\n",
            "      (conv2): Conv2d(512, 512, kernel_size=(3, 3), stride=(1, 1), padding=(1, 1), bias=False)\n",
            "      (bn2): BatchNorm2d(512, eps=1e-05, momentum=0.1, affine=True, track_running_stats=True)\n",
            "    )\n",
            "  )\n",
            "  (avgpool): AdaptiveAvgPool2d(output_size=(1, 1))\n",
            "  (fc): Linear(in_features=512, out_features=1000, bias=True)\n",
            ")\n"
          ],
          "name": "stdout"
        }
      ]
    },
    {
      "cell_type": "code",
      "metadata": {
        "id": "jDBN3kEjoa7f"
      },
      "source": [
        ""
      ],
      "execution_count": null,
      "outputs": []
    },
    {
      "cell_type": "code",
      "metadata": {
        "id": "6C6xquiJsQvF",
        "colab": {
          "base_uri": "https://localhost:8080/"
        },
        "outputId": "5498e484-8003-4d50-c26e-7ea2a8f9cae3"
      },
      "source": [
        "transform = transforms.Compose([transforms.ToTensor()])\n",
        "test_data_set = torchvision.datasets.CIFAR10(root='.', train=False, download=True, transform=transform)\n",
        "test_data_loader = torch.utils.data.DataLoader(test_data_set, batch_size=256, shuffle=True)"
      ],
      "execution_count": null,
      "outputs": [
        {
          "output_type": "stream",
          "text": [
            "Files already downloaded and verified\n"
          ],
          "name": "stdout"
        }
      ]
    },
    {
      "cell_type": "code",
      "metadata": {
        "id": "2CxmHu_hsyfz",
        "colab": {
          "base_uri": "https://localhost:8080/"
        },
        "outputId": "ae62fd23-1de1-4c47-e7ef-1125068e9511"
      },
      "source": [
        "correct = 0\n",
        "total = 0\n",
        "with torch.no_grad():\n",
        "  for data in test_data_loader:\n",
        "    inputs, labels = data[0].to(device), data[1].to(device)\n",
        "    outputs = model(inputs)\n",
        "    _, predicted = torch.max(outputs.data, 1)\n",
        "    total += labels.size(0)\n",
        "    correct += (predicted == labels).sum().item()\n",
        "print(f\"Accuracy: {100 * correct / total}\")"
      ],
      "execution_count": null,
      "outputs": [
        {
          "output_type": "stream",
          "text": [
            "Accuracy: 81.66\n"
          ],
          "name": "stdout"
        }
      ]
    },
    {
      "cell_type": "code",
      "metadata": {
        "colab": {
          "base_uri": "https://localhost:8080/"
        },
        "id": "o7qsHZrE9EJP",
        "outputId": "a50b3062-892b-4a59-c6a5-c4ad2b802ead"
      },
      "source": [
        "print(f\"{correct}/{total}\")"
      ],
      "execution_count": null,
      "outputs": [
        {
          "output_type": "stream",
          "text": [
            "8166/10000\n"
          ],
          "name": "stdout"
        }
      ]
    },
    {
      "cell_type": "code",
      "metadata": {
        "id": "YiO2AaGw-H17"
      },
      "source": [
        "torch.save({'epoch': 100,'model_state_dict': model.state_dict(),'optimizer_state_dict': optimizer.state_dict()}, \"resnet18_cifar10_pretrained_model\")"
      ],
      "execution_count": null,
      "outputs": []
    },
    {
      "cell_type": "code",
      "metadata": {
        "id": "HkTPMTeeWWyW"
      },
      "source": [
        ""
      ],
      "execution_count": null,
      "outputs": []
    }
  ]
}